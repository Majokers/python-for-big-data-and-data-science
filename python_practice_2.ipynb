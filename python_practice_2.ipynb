{
 "cells": [
  {
   "cell_type": "markdown",
   "metadata": {
    "id": "p9wwt0LZzNvn"
   },
   "source": [
    "# I. Змінні та памʼять."
   ]
  },
  {
   "cell_type": "markdown",
   "metadata": {
    "id": "HTJrrm95xSV9"
   },
   "source": [
    "1. Створити змінні, що посилаються на два цілих числа, що однакові за значенням, де значення належить проміжку від -5 до 256. Перевірте, чи будуть ці змінні рівні тільки за значенням або ж ще будуть посилатися на один і той самий обʼєкт в памʼяті? Наведіть код та дайте текстову відповідь нижче."
   ]
  },
  {
   "cell_type": "code",
   "execution_count": 3,
   "metadata": {
    "id": "TATni2vzayjG"
   },
   "outputs": [
    {
     "name": "stdout",
     "output_type": "stream",
     "text": [
      "True\n",
      "True\n"
     ]
    }
   ],
   "source": [
    "a = 100\n",
    "b = 100\n",
    "\n",
    "print(a == b)       \n",
    "print(a is b)       \n"
   ]
  },
  {
   "cell_type": "markdown",
   "metadata": {
    "id": "zfRG_o3WbRdg"
   },
   "source": [
    "У Python цілі числа від -5 до 256 зберігаються в кеші і будь які змінні, яким присвоюється одне із значень цього діапазону чисел, по суті посилаються на один і той самий об'єкт в пам'яті"
   ]
  },
  {
   "cell_type": "markdown",
   "metadata": {
    "id": "ISORzt6M3vAt"
   },
   "source": [
    "2. За допомогою якої функції можна перевірити належність змінної до вказаного типу даних (напр. чи змінна True посилається на значення булевого та цілочисленого типу)?"
   ]
  },
  {
   "cell_type": "code",
   "execution_count": null,
   "metadata": {
    "id": "9vL9CFaMbfyo"
   },
   "outputs": [
    {
     "name": "stdout",
     "output_type": "stream",
     "text": [
      "True\n",
      "True\n"
     ]
    }
   ],
   "source": [
    "x = True\n",
    "\n",
    "print(isinstance(x, bool))  \n",
    "print(isinstance(x, int))   \n",
    "\n"
   ]
  },
  {
   "cell_type": "markdown",
   "metadata": {
    "id": "tRxugKAxwYLw"
   },
   "source": [
    "# II. Цілі числа та числа з рухомою комою"
   ]
  },
  {
   "cell_type": "markdown",
   "metadata": {
    "id": "NLHkgd5Gybc8"
   },
   "source": [
    "3. Створити дві змінні, що посилаються на будь-які ціле число та число з рухомою комою та продемонструвати такі арифметичні операції: додавання, віднімання, ділення, множення, ділення без залишку, ділення по модулю, приведення до ступеню. Всі результати операцій вивести на екран."
   ]
  },
  {
   "cell_type": "code",
   "execution_count": 6,
   "metadata": {
    "id": "nb8u_3pjb2cA"
   },
   "outputs": [
    {
     "name": "stdout",
     "output_type": "stream",
     "text": [
      "a + b = 13.5\n",
      "a - b = 6.5\n",
      "a * b = 35.0\n",
      "a / b = 2.857142857142857\n",
      "a / b(without remainder) = 2.0\n",
      "a % b(modulus) = 3.0\n",
      "a ^ b = 3162.2776601683795\n"
     ]
    }
   ],
   "source": [
    "a = 10       \n",
    "b = 3.5     \n",
    "print(\"a + b =\", a + b)           \n",
    "print(\"a - b =\", a - b)           \n",
    "print(\"a * b =\", a * b)           \n",
    "print(\"a / b =\", a / b)           \n",
    "print(\"a / b(without remainder) =\", a // b)         \n",
    "print(\"a % b(modulus) =\", a % b)           \n",
    "print(\"a ^ b =\", a ** b)         \n"
   ]
  },
  {
   "cell_type": "markdown",
   "metadata": {
    "id": "1kBClKgPzZnC"
   },
   "source": [
    "4. Використовуючи змінні з вправи 3, продемонструйте механізм явного перетворення типів, де числа з рухомою комою перетворюються на цілі числа. Також визначте змінну, що посилається на значення булевого типу і спробуйте явно привести її до цілого числа."
   ]
  },
  {
   "cell_type": "code",
   "execution_count": null,
   "metadata": {
    "id": "TbqJbkeUcKsD"
   },
   "outputs": [
    {
     "name": "stdout",
     "output_type": "stream",
     "text": [
      "int(b) = 3\n",
      "int(flag) = 1\n"
     ]
    }
   ],
   "source": [
    "a = 10        \n",
    "b = 3.5       \n",
    "\n",
    "\n",
    "b_to_int = int(b)\n",
    "print(\"int(b) =\", b_to_int)      \n",
    "\n",
    "\n",
    "flag = True                      \n",
    "flag_to_int = int(flag)\n",
    "print(\"int(flag) =\", flag_to_int) "
   ]
  },
  {
   "cell_type": "markdown",
   "metadata": {
    "id": "EVJ7AflwxrZi"
   },
   "source": [
    "# IІІ. Рядки (String)."
   ]
  },
  {
   "cell_type": "markdown",
   "metadata": {
    "id": "_s5ECzz9zE61"
   },
   "source": [
    "5. Створити пустий рядок двома різними способами."
   ]
  },
  {
   "cell_type": "code",
   "execution_count": 10,
   "metadata": {
    "id": "fkZJHu9Scvc-"
   },
   "outputs": [
    {
     "name": "stdout",
     "output_type": "stream",
     "text": [
      "\n",
      "\n"
     ]
    }
   ],
   "source": [
    "empty1 = \"\"\n",
    "empty2 = str()\n",
    "\n",
    "print(empty1)\n",
    "print(empty2)"
   ]
  },
  {
   "cell_type": "markdown",
   "metadata": {
    "id": "4Bdn9J3MzLf_"
   },
   "source": [
    "6. Створити рядок з апострофом. Зробити його сирим. Вивести обидва рядка на екран."
   ]
  },
  {
   "cell_type": "code",
   "execution_count": null,
   "metadata": {
    "id": "ivji_hsmc0GH"
   },
   "outputs": [
    {
     "name": "stdout",
     "output_type": "stream",
     "text": [
      "Normal:  It's me, Mario!\n",
      "Raw:  It\\'s me, Mario!\n"
     ]
    }
   ],
   "source": [
    "normal_str = \"It\\'s me, Mario!\"\n",
    "raw_str = r\"It\\'s me, Mario!\"\n",
    "\n",
    "print(normal_str)\n",
    "print(raw_str)"
   ]
  },
  {
   "cell_type": "markdown",
   "metadata": {
    "id": "bg_d8wM4z8dS"
   },
   "source": [
    "7. Створити змінну, що буде посилатися на Ваше прізвище латинкою. Створити форматований рядок, який буде мати вигляд \"My surname is ______\", де на місці нижніх підкреслень буде Ваше прізвище зі змінної."
   ]
  },
  {
   "cell_type": "code",
   "execution_count": 22,
   "metadata": {
    "id": "kuxFgpWndACq"
   },
   "outputs": [
    {
     "name": "stdout",
     "output_type": "stream",
     "text": [
      "My surname is Polianytsia\n"
     ]
    }
   ],
   "source": [
    "surname = \"Polianytsia\"\n",
    "\n",
    "string = f\"My surname is {surname}\"\n",
    "\n",
    "print(string)"
   ]
  },
  {
   "cell_type": "markdown",
   "metadata": {
    "id": "1Nc6RqvQ0hxU"
   },
   "source": [
    "8. Маючи рядок \"My dog is crazy.\" перетворити його на список [\"my\", \"dog\", \"is\", \"crazy\"]"
   ]
  },
  {
   "cell_type": "code",
   "execution_count": 23,
   "metadata": {
    "id": "w1Ya4RqedUhw"
   },
   "outputs": [
    {
     "name": "stdout",
     "output_type": "stream",
     "text": [
      "['my', 'dog', 'is', 'crazy']\n"
     ]
    }
   ],
   "source": [
    "sentence = \"My dog is crazy\"\n",
    "words = sentence.lower().replace('.', '').split()\n",
    "print(words)"
   ]
  },
  {
   "cell_type": "markdown",
   "metadata": {
    "id": "GYVqN9uP1D4n"
   },
   "source": [
    "# IV. Робота зі списками."
   ]
  },
  {
   "cell_type": "markdown",
   "metadata": {
    "id": "7-DeDunw2sO-"
   },
   "source": [
    "9. Створити список двома різними за синтаксисом способами. За допомогою вбудованої функції обчисліть довжину одного з них."
   ]
  },
  {
   "cell_type": "code",
   "execution_count": 25,
   "metadata": {
    "id": "zxg06Uuxdyoh"
   },
   "outputs": [
    {
     "name": "stdout",
     "output_type": "stream",
     "text": [
      "3\n"
     ]
    }
   ],
   "source": [
    "list1 = [1, 2, 3, 4]\n",
    "list2 = list((\"a\", \"b\", \"c\"))\n",
    "\n",
    "\n",
    "list2_len = len(list2)\n",
    "\n",
    "print(list2_len)\n"
   ]
  },
  {
   "cell_type": "markdown",
   "metadata": {
    "id": "8vmGUTjL22gI"
   },
   "source": [
    "10. Створіть два списка та за допомогою спеціального методу додайте другий з них в якості останнього елемента першого."
   ]
  },
  {
   "cell_type": "code",
   "execution_count": 26,
   "metadata": {
    "id": "uHtjWYw7d7hm"
   },
   "outputs": [
    {
     "name": "stdout",
     "output_type": "stream",
     "text": [
      "[1, 2, 3, [4, 5]]\n"
     ]
    }
   ],
   "source": [
    "list1 = [1, 2, 3]\n",
    "list2 = [4, 5]\n",
    "\n",
    "list1.append(list2)\n",
    "\n",
    "print(list1)"
   ]
  },
  {
   "cell_type": "markdown",
   "metadata": {
    "id": "JC3BkD-67_--"
   },
   "source": [
    "11. Створіть список, де елементами цього списку також є списки. Отримай перший елемент з останнього рядка та виведи значення на екран."
   ]
  },
  {
   "cell_type": "code",
   "execution_count": null,
   "metadata": {
    "id": "Kz2jZHsGeLlz"
   },
   "outputs": [
    {
     "name": "stdout",
     "output_type": "stream",
     "text": [
      "5\n"
     ]
    }
   ],
   "source": [
    "list = [[1, 2], [3, 4], [5, 6]]\n",
    "value = list[-1][0]\n",
    "\n",
    "print(value)"
   ]
  },
  {
   "cell_type": "markdown",
   "metadata": {
    "id": "JA47PKTv8zFK"
   },
   "source": [
    "12. Створіть список з десяти елементів різного типу. Отримайте всі елементи, окрім двох перших та двох останніх та збережіть їх в новій змінній."
   ]
  },
  {
   "cell_type": "code",
   "execution_count": null,
   "metadata": {
    "id": "_rHdUR-ueP4-"
   },
   "outputs": [
    {
     "name": "stdout",
     "output_type": "stream",
     "text": [
      "[9.68, True, None, [1, 2], {'a': 1}, (5, 6)]\n"
     ]
    }
   ],
   "source": [
    "list = [777, \"qwerty\", 9.68, True, None, [1, 2], {\"a\": 1}, (5, 6), set([7, 8]), bytearray(b'abc')]\n",
    "\n",
    "parted_list = list[2:-2]\n",
    "\n",
    "print(parted_list)"
   ]
  },
  {
   "cell_type": "markdown",
   "metadata": {
    "id": "pCjR1dJb1Qbi"
   },
   "source": [
    "# V. Робота з кортежами."
   ]
  },
  {
   "cell_type": "markdown",
   "metadata": {
    "id": "fAZCxAX06R_k"
   },
   "source": [
    "14. Створити кортеж з один елементом."
   ]
  },
  {
   "cell_type": "code",
   "execution_count": 29,
   "metadata": {
    "id": "H7d82WkQev3e"
   },
   "outputs": [],
   "source": [
    "tuple = (5,)"
   ]
  },
  {
   "cell_type": "markdown",
   "metadata": {
    "id": "8LCtYcmI6w1M"
   },
   "source": [
    "15. Порівняйте список та кортеж. Назвіть схожості та відмінності, випадки використання."
   ]
  },
  {
   "cell_type": "markdown",
   "metadata": {
    "id": "fUsN1Hnue0C6"
   },
   "source": [
    "Схожості: \n",
    "1. Кортежі і списки - це впорядковані колекції і всі елементи мають індекси\n",
    "2. Можна \"витягти\" будь-який елемент за індексом\n",
    "3. Можуть містити інші колекції всередині себе\n",
    "\n",
    "Відмінності:\n",
    "1. Списки, на відміну від кортежів, можна змінювати після створення\n",
    "2. Синтаксис(в списках використовуютьсякруглі, в кортежах квадратні дужки)\n",
    "3. Через свою незмінність, кортежі швидші у виконанні (особливо з великою кількістю елементів)\n",
    "\n",
    "Випадки використання:\n",
    "Списки можна використовувати при роботі зі змінним вмістом, а кортежі якщо важлива швидкість виконання, захистити дані від змін або якщо вносяться незмінні дані"
   ]
  },
  {
   "cell_type": "markdown",
   "metadata": {
    "id": "m0xrwFijAmDD"
   },
   "source": [
    "16. Створіть кортеж з 11ти елементів чисел з рухомою комою та отримайте кожен парний за індексом елемент в зворотньому порядку. Наприклад, маючи (1.2, 2.3, 3.3, 4.3, 5.3, 6.3, 7.3, 8.3, 9.3, 0.3), отримати (0.3, 8.3, 6.3, 4.3, 2.3). Результат збережіть в нову змінну та виведіть на екран."
   ]
  },
  {
   "cell_type": "code",
   "execution_count": 31,
   "metadata": {
    "id": "p-5DAH6XfAGA"
   },
   "outputs": [
    {
     "name": "stdout",
     "output_type": "stream",
     "text": [
      "(11.3, 9.3, 7.3, 5.3, 3.3, 1.2)\n"
     ]
    }
   ],
   "source": [
    "tuple = (1.2, 2.3, 3.3, 4.3, 5.3, 6.3, 7.3, 8.3, 9.3, 10.3, 11.3)\n",
    "\n",
    "result = tuple[::2][::-1]\n",
    "\n",
    "print(result)"
   ]
  },
  {
   "cell_type": "markdown",
   "metadata": {
    "id": "rW_I9dt3x6cW"
   },
   "source": [
    "# VI. Множини (Set)."
   ]
  },
  {
   "cell_type": "markdown",
   "metadata": {
    "id": "zNjRLHLw1Bgg"
   },
   "source": [
    "17. Створити множину без елементів. Після цого за допомогою методу додайте кілька різних елементів до множини. Чи множини є змінним типом даних?"
   ]
  },
  {
   "cell_type": "code",
   "execution_count": 43,
   "metadata": {
    "id": "KOv7zc2Kfo4N"
   },
   "outputs": [
    {
     "name": "stdout",
     "output_type": "stream",
     "text": [
      "{200, 26.2, 'qwerty'}\n"
     ]
    }
   ],
   "source": [
    "my_set = set()\n",
    "\n",
    "my_set.add(200)\n",
    "my_set.add(26.2)\n",
    "my_set.add(\"qwerty\")\n",
    "\n",
    "print(my_set)"
   ]
  },
  {
   "cell_type": "markdown",
   "metadata": {
    "id": "vxS6dVYiftZQ"
   },
   "source": [
    "Так"
   ]
  },
  {
   "cell_type": "markdown",
   "metadata": {
    "id": "gHpT0Zw_1HEF"
   },
   "source": [
    "18. Створити множину, маючи список my_list = [1, 1, 2, 67, 67, 8, 9]. Пояснити, чому \"зникли\" деякі елементи."
   ]
  },
  {
   "cell_type": "code",
   "execution_count": 42,
   "metadata": {
    "id": "qCN4uvJ_fxmu"
   },
   "outputs": [
    {
     "name": "stdout",
     "output_type": "stream",
     "text": [
      "{1, 2, 67, 8, 9}\n"
     ]
    }
   ],
   "source": [
    "my_list = [1, 1, 2, 67, 67, 8, 9]\n",
    "my_set = set(my_list)\n",
    "\n",
    "print(my_set)"
   ]
  },
  {
   "cell_type": "markdown",
   "metadata": {
    "id": "tFNc1e20fyny"
   },
   "source": [
    "так, як множина це невпорядкована колекція унікальних значень, вона автоматично видаляє дублікати"
   ]
  },
  {
   "cell_type": "markdown",
   "metadata": {
    "id": "SRMkGizS1UwY"
   },
   "source": [
    "19. Створіть дві множини. Продемонстуйте над ними операції: обʼєднання, різниці, пересічі та симетричної різниці. Використовуйте методи, що не змінюють множини, а створюють нові."
   ]
  },
  {
   "cell_type": "code",
   "execution_count": null,
   "metadata": {
    "id": "h0T-VuDnf3Ri"
   },
   "outputs": [
    {
     "name": "stdout",
     "output_type": "stream",
     "text": [
      "Обʼєднання: {1, 2, 3, 4, 5, 6, 7, 8}\n",
      "Перетин: {4, 5}\n",
      "Різниця A - B: {1, 2, 3}\n",
      "Симетрична різниця: {1, 2, 3, 6, 7, 8}\n"
     ]
    }
   ],
   "source": [
    "set_a = {1, 2, 3, 4, 5}\n",
    "set_b = {4, 5, 6, 7, 8}\n",
    "\n",
    "# Union\n",
    "union_set = set_a.union(set_b)\n",
    "print(\"Union:\", union_set)\n",
    "\n",
    "# Intersection\n",
    "intersection_set = set_a.intersection(set_b)\n",
    "print(\"Intersection:\", intersection_set)\n",
    "\n",
    "# Difference\n",
    "difference_set = set_a.difference(set_b)\n",
    "print(\"A - B:\", difference_set)\n",
    "\n",
    "# Symmetric_difference\n",
    "sym_diff_set = set_a.symmetric_difference(set_b)\n",
    "print(\"Symmetric difference:\", sym_diff_set)"
   ]
  },
  {
   "cell_type": "markdown",
   "metadata": {
    "id": "kWc8gkzTx7Ea"
   },
   "source": [
    "# VII. Словники (Dictionary)."
   ]
  },
  {
   "cell_type": "markdown",
   "metadata": {
    "id": "i5FLwj-B2ybQ"
   },
   "source": [
    "20. Створіть пустий словник. До нього додайте чотири пари елементів такі, щоб їхні ключі були різних типів. Чи може список бути ключем? Чому?"
   ]
  },
  {
   "cell_type": "code",
   "execution_count": 46,
   "metadata": {
    "id": "hxgv3BzrgLAV"
   },
   "outputs": [
    {
     "name": "stdout",
     "output_type": "stream",
     "text": [
      "{'name': 'Python', 42: 'Number', 3.14: 'Pi', (1, 2): 'Tuple'}\n"
     ]
    }
   ],
   "source": [
    "my_dict = {}\n",
    "\n",
    "my_dict[\"name\"] = \"Python\"        \n",
    "my_dict[42] = \"Number\"            \n",
    "my_dict[3.14] = \"Pi\"              \n",
    "my_dict[(1, 2)] = \"Tuple\"     \n",
    "\n",
    "\n",
    "print(my_dict)\n"
   ]
  },
  {
   "cell_type": "markdown",
   "metadata": {
    "id": "zwa7UVN-gR3m"
   },
   "source": [
    "Ні, бо ключі в словнику повинні бути незмінними"
   ]
  },
  {
   "cell_type": "markdown",
   "metadata": {
    "id": "WM_pMlJsgoNf"
   },
   "source": [
    "21. Створіть словник, де значенням в одній з пар теж буде словник, який теж має вкладений словник. Виведіть на екран значення, що міститься в словнику, що знаходиться на найнижчому рівні ієрархії вкладеності (найбільш внутрішній)."
   ]
  },
  {
   "cell_type": "code",
   "execution_count": 47,
   "metadata": {
    "id": "60dlP7IHhAy4"
   },
   "outputs": [
    {
     "name": "stdout",
     "output_type": "stream",
     "text": [
      "90\n"
     ]
    }
   ],
   "source": [
    "student = {\n",
    "    \"name\": \"Andrii\",\n",
    "    \"grades\": {\n",
    "        \"math\": {\n",
    "            \"midterm\": 85,\n",
    "            \"final\": 90\n",
    "        },\n",
    "    }\n",
    "}\n",
    "\n",
    "print(student[\"grades\"][\"math\"][\"final\"])\n"
   ]
  },
  {
   "cell_type": "markdown",
   "metadata": {
    "id": "xOZP0hkx6cCr"
   },
   "source": [
    "# Вітаю! Ви велика(ий) молодець, що впоралась(вся). Похваліть себе та побалуйте чимось приємним. Я Вами пишаюся."
   ]
  }
 ],
 "metadata": {
  "colab": {
   "provenance": []
  },
  "kernelspec": {
   "display_name": "Python 3",
   "name": "python3"
  },
  "language_info": {
   "codemirror_mode": {
    "name": "ipython",
    "version": 3
   },
   "file_extension": ".py",
   "mimetype": "text/x-python",
   "name": "python",
   "nbconvert_exporter": "python",
   "pygments_lexer": "ipython3",
   "version": "3.11.9"
  }
 },
 "nbformat": 4,
 "nbformat_minor": 0
}
